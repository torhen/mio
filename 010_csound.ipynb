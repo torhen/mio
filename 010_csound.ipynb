{
 "cells": [
  {
   "cell_type": "code",
   "execution_count": 1,
   "metadata": {},
   "outputs": [],
   "source": [
    "import xmltodict"
   ]
  },
  {
   "cell_type": "code",
   "execution_count": 115,
   "metadata": {},
   "outputs": [],
   "source": [
    "class tune:\n",
    "    \n",
    "    def __init__(self):\n",
    "        self.dic = {}\n",
    "        self.tick = 1\n",
    "        self.dic['CsoundSynthesizer'] = {}\n",
    "        self.dic['CsoundSynthesizer']['CsOptions'] =  \"\"\"\n",
    "            -o dac\n",
    "            \"\"\"\n",
    "        self.dic['CsoundSynthesizer']['CsInstruments'] =  \"\"\"\n",
    "            sr     = 44100     ; Samplerate 44100 Hz (Signalrate für die Ausgabe)\n",
    "            ksmps  = 32        ; Anzahl von Samples in einem Audio-Array (Blockgröße)\n",
    "            nchnls = 2         ; Anzahl der Ausgabekanäle (1 bedeutet Mono, 2 Stereo)\n",
    "            0dbfs = 1\n",
    "        \"\"\"\n",
    "        \n",
    "        self.dic['CsoundSynthesizer']['CsScore'] =  \"\"\"\n",
    "        \"\"\"\n",
    "        \n",
    "    def add_instr(self, name, s):\n",
    "        self.dic['CsoundSynthesizer']['CsInstruments'] += f\"\\ninstr {name}\\n{s}\\nendin\\n\"\n",
    "        \n",
    "    def add_score(self, instr, start, duration, freq, volume):\n",
    "        self.dic['CsoundSynthesizer']['CsScore'] += f'i \"{instr}\" {start} {duration} {freq} {volume}\\n'\n",
    "        \n",
    "    def set_tempo(self, tempo):\n",
    "        self.dic['CsoundSynthesizer']['CsScore'] += f't 0 {tempo}\\n'\n",
    "        \n",
    "        \n",
    "        \n",
    "    def write(self, file):\n",
    "    \n",
    "        s = xmltodict.unparse(self.dic, pretty=True)\n",
    "\n",
    "        with open(file, 'w', encoding='utf-8') as fout:\n",
    "            fout.write(s)"
   ]
  },
  {
   "cell_type": "code",
   "execution_count": 125,
   "metadata": {},
   "outputs": [],
   "source": [
    "a = tune()\n",
    "a.add_instr('Synth_01',\"\"\"\n",
    "    aOut vco2 p5, p4\n",
    "    out  aOut\n",
    "\"\"\")\n",
    "a.set_tempo(500)\n",
    "for k in range(20):\n",
    "    for i in range(3):\n",
    "        a.add_score(\"Synth_01\",i+k ,1, 440 + 50*i, 0.1)\n",
    "\n",
    "a.write('test.csd')"
   ]
  },
  {
   "cell_type": "code",
   "execution_count": 126,
   "metadata": {},
   "outputs": [
    {
     "name": "stdout",
     "output_type": "stream",
     "text": [
      "0dBFS level = 32768.0\n",
      "--Csound version 6.12 beta (double samples) Oct 24 2018\n",
      "[commit: 037becccce26dc9ebc37198a75877e817431d978]\n",
      "libsndfile-1.0.29pre1\n",
      "UnifiedCSD:  test.csd\n",
      "STARTING FILE\n",
      "Creating options\n",
      "Creating orchestra\n",
      "closing tag\n",
      "Creating score\n",
      "rtaudio: PortAudio module enabled ...\n",
      "using callback interface\n",
      "rtmidi: PortMIDI module enabled\n",
      "instr Synth_01 uses instrument number 1\n",
      "Elapsed time at end of orchestra compile: real: 0.007s, CPU: 0.007s\n",
      "sorting score ...\n",
      "\t... done\n",
      "Elapsed time at end of score sort: real: 0.008s, CPU: 0.008s\n",
      "graphics suppressed, ascii substituted\n",
      "0dBFS level = 1.0\n",
      "orch now loaded\n",
      "audio buffered in 4096 sample-frame blocks\n",
      "PortAudio V19.6.0-devel, revision unknown\n",
      "   0: dac0 (Microsoft Sound Mapper - Output [MME])\n",
      "   1: dac1 (Communication Headphones (Realt [MME])\n",
      "   2: dac2 (Speakers/Headphones (Realtek Hi [MME])\n",
      "   3: dac3 (Primary Sound Driver [Windows DirectSound])\n",
      "   4: dac4 (Communication Headphones (Realtek High Definition Audio) [Wind)\n",
      "   5: dac5 (Speakers/Headphones (Realtek High Definition Audio) [Windows D)\n",
      "   6: dac6 (Communication Headphones (Realtek High Definition Audio) [Wind)\n",
      "   7: dac7 (Speakers/Headphones (Realtek High Definition Audio) [Windows W)\n",
      "   8: dac8 (Speakers (Realtek HD Audio output) [Windows WDM-KS])\n",
      "   9: dac9 (Speakers (Realtek HD Audio 2nd output) [Windows WDM-KS])\n",
      "PortAudio: selected output device 'Communication Headphones (Realt'\n",
      "writing 8192 sample blks of 64-bit floats to dac\n",
      "SECTION 1:\n",
      "new alloc for instr Synth_01:\n",
      "B  0.000 ..  1.000 T  0.120 TT  0.120 M:  0.11564  0.00000\n",
      "new alloc for instr Synth_01:\n",
      "B  1.000 ..  2.000 T  0.240 TT  0.240 M:  0.23113  0.00000\n",
      "new alloc for instr Synth_01:\n",
      "B  2.000 ..  3.000 T  0.360 TT  0.360 M:  0.34642  0.00000\n",
      "B  3.000 ..  4.000 T  0.480 TT  0.480 M:  0.34642  0.00000\n",
      "B  4.000 ..  5.000 T  0.600 TT  0.600 M:  0.34642  0.00000\n",
      "B  5.000 ..  6.000 T  0.720 TT  0.720 M:  0.34642  0.00000\n",
      "B  6.000 ..  7.000 T  0.840 TT  0.840 M:  0.34642  0.00000\n",
      "B  7.000 ..  8.000 T  0.960 TT  0.960 M:  0.34642  0.00000\n",
      "B  8.000 ..  9.000 T  1.080 TT  1.080 M:  0.34642  0.00000\n",
      "B  9.000 .. 10.000 T  1.200 TT  1.200 M:  0.34642  0.00000\n",
      "B 10.000 .. 11.000 T  1.320 TT  1.320 M:  0.34642  0.00000\n",
      "B 11.000 .. 12.000 T  1.440 TT  1.440 M:  0.34642  0.00000\n",
      "B 12.000 .. 13.000 T  1.560 TT  1.560 M:  0.34642  0.00000\n",
      "B 13.000 .. 14.000 T  1.680 TT  1.680 M:  0.34642  0.00000\n",
      "B 14.000 .. 15.000 T  1.800 TT  1.800 M:  0.34642  0.00000\n",
      "B 15.000 .. 16.000 T  1.920 TT  1.920 M:  0.34642  0.00000\n",
      "B 16.000 .. 17.000 T  2.040 TT  2.040 M:  0.34642  0.00000\n",
      "B 17.000 .. 18.000 T  2.160 TT  2.160 M:  0.34642  0.00000\n",
      "B 18.000 .. 19.000 T  2.280 TT  2.280 M:  0.34642  0.00000\n",
      "B 19.000 .. 20.000 T  2.400 TT  2.400 M:  0.34642  0.00000\n",
      "B 20.000 .. 21.000 T  2.520 TT  2.520 M:  0.23078  0.00000\n",
      "B 21.000 .. 22.000 T  2.640 TT  2.640 M:  0.11529  0.00000\n",
      "Score finished in csoundPerform().\n",
      "inactive allocs returned to freespace\n",
      "end of score.\t\t   overall amps:  0.34642  0.00000\n",
      "\t   overall samples out of range:        0        0\n",
      "0 errors in performance\n",
      "Elapsed time at end of performance: real: 3.046s, CPU: 3.046s\n",
      "closing device\n",
      "29 8192 sample blks of 64-bit floats written to dac\n"
     ]
    },
    {
     "name": "stderr",
     "output_type": "stream",
     "text": [
      "time resolution is 446.238 ns\n"
     ]
    }
   ],
   "source": [
    "!csound test.csd"
   ]
  },
  {
   "cell_type": "code",
   "execution_count": null,
   "metadata": {},
   "outputs": [],
   "source": []
  },
  {
   "cell_type": "code",
   "execution_count": null,
   "metadata": {},
   "outputs": [],
   "source": []
  },
  {
   "cell_type": "code",
   "execution_count": null,
   "metadata": {},
   "outputs": [],
   "source": []
  }
 ],
 "metadata": {
  "kernelspec": {
   "display_name": "Python [default]",
   "language": "python",
   "name": "python3"
  },
  "language_info": {
   "codemirror_mode": {
    "name": "ipython",
    "version": 3
   },
   "file_extension": ".py",
   "mimetype": "text/x-python",
   "name": "python",
   "nbconvert_exporter": "python",
   "pygments_lexer": "ipython3",
   "version": "3.6.5"
  }
 },
 "nbformat": 4,
 "nbformat_minor": 2
}
